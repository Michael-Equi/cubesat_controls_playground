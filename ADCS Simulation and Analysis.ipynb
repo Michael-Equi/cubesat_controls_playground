{
 "cells": [
  {
   "cell_type": "markdown",
   "metadata": {},
   "source": [
    "# ADCS Simulator and System Modeling / Selection Notebook \n",
    "Follow the readme to install dependencies and correctly configure you environment/machine to run the varios blocks."
   ]
  },
  {
   "cell_type": "code",
   "execution_count": 5,
   "metadata": {},
   "outputs": [],
   "source": [
    "%matplotlib widget\n",
    "import numpy as np\n",
    "import math"
   ]
  },
  {
   "cell_type": "code",
   "execution_count": 6,
   "metadata": {},
   "outputs": [],
   "source": [
    "import lib.physics as physics\n",
    "import lib.cubesat as cubesat\n",
    "import lib.renderer as renderer"
   ]
  },
  {
   "cell_type": "code",
   "execution_count": 7,
   "metadata": {},
   "outputs": [],
   "source": [
    "def vcircular(altitude):\n",
    "    return math.sqrt(physics.Consts.mu / (altitude + physics.Consts.R_earth))\n",
    "\n",
    "initial_state  = cubesat.State(physics.Consts.ISS_altitude + physics.Consts.R_earth, 0, 0, 0, vcircular(physics.Consts.ISS_altitude), 0) # x, y, z, dx, dy, dz\n",
    "qubesat = cubesat.Cubesat(1, length=0.1, width=0.1, height=0.1) # mass in kg, length, width, height in m\n",
    "\n",
    "planet  = physics.Planet(physics.Consts.M_earth, physics.Consts.R_earth) # mass in kg, radius in meters\n",
    "# planet  = physics.Planet(10, 200) # mass in kg, radius in meters"
   ]
  },
  {
   "cell_type": "code",
   "execution_count": 8,
   "metadata": {},
   "outputs": [],
   "source": [
    "class Simulator:\n",
    "    def __init__(self, time, cubesat, planet, dt=0.1):\n",
    "        \"\"\"\n",
    "        time and step size in seconds\n",
    "        \"\"\"\n",
    "        self.dt = dt\n",
    "        self.time = time\n",
    "        self.cubesat = cubesat\n",
    "        self.planet = planet\n",
    "        self.elapsed_time = 0\n",
    "        \n",
    "        # The new state is provided by the following equation\n",
    "        # xk = Axk-1 + Buk-1 + wk-1\n",
    "        # u is the vector sum of all the accelerations\n",
    "        \n",
    "        # 3D state matrix - A\n",
    "        self.A = np.array([[1, 0, 0, self.dt, 0, 0],\n",
    "                          [0, 1, 0, 0, self.dt, 0],\n",
    "                          [0, 0, 1, 0, 0, self.dt],\n",
    "                          [0, 0, 0, 1, 0, 0],\n",
    "                          [0, 0, 0, 0, 1, 0],\n",
    "                          [0, 0, 0, 0, 0, 1]]) \n",
    "        \n",
    "        # 3D control matrix - B\n",
    "        self.B = np.array([[1/2*self.dt**2, 0, 0],\n",
    "                          [0, 1/2*self.dt**2, 0],\n",
    "                          [0, 0, 1/2*self.dt**2],\n",
    "                          [self.dt, 0, 0],\n",
    "                          [0, self.dt, 0],\n",
    "                          [0, 0, self.dt]])\n",
    "        \n",
    "    def step(self, state):\n",
    "        # compute acceleration vector from gravity assuming points mass of the earth and satelite\n",
    "        if not self.elapsed_time == self.time:\n",
    "            # [x,y,z]/|[x,y,z]| <- assumes point mass earth with center at (0,0,0)\n",
    "            r_hat = state[:3]/np.linalg.norm(state[:3])\n",
    "#             print(r_hat)\n",
    "            a = -physics.Consts.G * qubesat.mass * planet.mass / np.linalg.norm(state[:3])**2 * r_hat\n",
    "            new_state = np.dot(self.A, state) + np.dot(self.B, a)\n",
    "            self.elapsed_time += self.dt\n",
    "            return (self.elapsed_time, new_state)\n",
    "        else:\n",
    "            return (self.elapsed_time, None)"
   ]
  },
  {
   "cell_type": "code",
   "execution_count": 27,
   "metadata": {},
   "outputs": [
    {
     "data": {
      "application/vnd.jupyter.widget-view+json": {
       "model_id": "b13892287dd94759b3a23994e63753dc",
       "version_major": 2,
       "version_minor": 0
      },
      "text/plain": [
       "Canvas(toolbar=Toolbar(toolitems=[('Home', 'Reset original view', 'home', 'home'), ('Back', 'Back to previous …"
      ]
     },
     "metadata": {},
     "output_type": "display_data"
    }
   ],
   "source": [
    "%matplotlib widget\n",
    "import matplotlib.pyplot as plt\n",
    "simulator = Simulator(10000, cubesat, planet, 0.1)\n",
    "state = np.array([physics.Consts.ISS_altitude + physics.Consts.R_earth, 0, 0, 0, vcircular(physics.Consts.ISS_altitude), 0])\n",
    "\n",
    "# while state is not None:\n",
    "#     state_x.append(state[0])\n",
    "#     state_y.append(state[1])\n",
    "#     state_z.append(state[2])\n",
    "#     time, state = simulator.step(state)\n",
    "\n",
    "fig = plt.figure(figsize=(5,5))\n",
    "ax = fig.add_subplot(1,1,1)\n",
    "ax.plot(state_x, state_y)\n",
    "\n",
    "# 2d plot\n",
    "state_x = []\n",
    "state_y = []\n",
    "state_z = []\n",
    "plotter, = ax.plot([])\n",
    "\n",
    "def update(state_x):\n",
    "    state = simulator.step(state)\n",
    "    \n",
    "    state_x.append(state[0])\n",
    "#     state_y.append(state[1])\n",
    "#     state_z.append(state[2])\n",
    "    \n",
    "    plotter.set_data(np.arange(0, len(state_x), 1), state_x)\n",
    "    ax.set_xlim(0, len(state_x))\n",
    "\n",
    "import matplotlib.animation as animation\n",
    "line_ani = animation.FuncAnimation(fig, update, 20, fargs=(state_x),\n",
    "                                   interval=1, blit=False)\n",
    "\n",
    "plt.show()"
   ]
  },
  {
   "cell_type": "code",
   "execution_count": null,
   "metadata": {},
   "outputs": [],
   "source": []
  },
  {
   "cell_type": "code",
   "execution_count": 28,
   "metadata": {},
   "outputs": [
    {
     "data": {
      "application/vnd.jupyter.widget-view+json": {
       "model_id": "ffae2e657e3f44b884276f77040c2737",
       "version_major": 2,
       "version_minor": 0
      },
      "text/plain": [
       "Canvas(toolbar=Toolbar(toolitems=[('Home', 'Reset original view', 'home', 'home'), ('Back', 'Back to previous …"
      ]
     },
     "metadata": {},
     "output_type": "display_data"
    },
    {
     "ename": "NameError",
     "evalue": "name 'Poly3DCollection' is not defined",
     "output_type": "error",
     "traceback": [
      "\u001b[0;31m---------------------------------------------------------------------------\u001b[0m",
      "\u001b[0;31mNameError\u001b[0m                                 Traceback (most recent call last)",
      "\u001b[0;32m<ipython-input-28-4a1d49b6d7fb>\u001b[0m in \u001b[0;36m<module>\u001b[0;34m\u001b[0m\n\u001b[1;32m     30\u001b[0m \u001b[0;34m\u001b[0m\u001b[0m\n\u001b[1;32m     31\u001b[0m \u001b[0;31m# 3d simulation\u001b[0m\u001b[0;34m\u001b[0m\u001b[0;34m\u001b[0m\u001b[0;34m\u001b[0m\u001b[0m\n\u001b[0;32m---> 32\u001b[0;31m \u001b[0mcollection\u001b[0m \u001b[0;34m=\u001b[0m \u001b[0mPoly3DCollection\u001b[0m\u001b[0;34m(\u001b[0m\u001b[0mpoints_to_verts\u001b[0m\u001b[0;34m(\u001b[0m\u001b[0mpoints\u001b[0m\u001b[0;34m)\u001b[0m\u001b[0;34m,\u001b[0m \u001b[0mfacecolors\u001b[0m\u001b[0;34m=\u001b[0m\u001b[0;34m'grey'\u001b[0m\u001b[0;34m,\u001b[0m \u001b[0mlinewidths\u001b[0m\u001b[0;34m=\u001b[0m\u001b[0;36m1\u001b[0m\u001b[0;34m,\u001b[0m \u001b[0medgecolors\u001b[0m\u001b[0;34m=\u001b[0m\u001b[0;34m'black'\u001b[0m\u001b[0;34m,\u001b[0m \u001b[0malpha\u001b[0m\u001b[0;34m=\u001b[0m\u001b[0;36m0.9\u001b[0m\u001b[0;34m)\u001b[0m\u001b[0;34m\u001b[0m\u001b[0;34m\u001b[0m\u001b[0m\n\u001b[0m\u001b[1;32m     33\u001b[0m \u001b[0max\u001b[0m\u001b[0;34m.\u001b[0m\u001b[0madd_collection3d\u001b[0m\u001b[0;34m(\u001b[0m\u001b[0mcollection\u001b[0m\u001b[0;34m)\u001b[0m\u001b[0;34m\u001b[0m\u001b[0;34m\u001b[0m\u001b[0m\n\u001b[1;32m     34\u001b[0m \u001b[0;34m\u001b[0m\u001b[0m\n",
      "\u001b[0;31mNameError\u001b[0m: name 'Poly3DCollection' is not defined"
     ]
    }
   ],
   "source": [
    "points = np.array([[-1, -1, -1],\n",
    "                   [1, -1, -1 ],\n",
    "                   [1, 1, -1],\n",
    "                   [-1, 1, -1],\n",
    "                   [-1, -1, 1],\n",
    "                   [1, -1, 1 ],\n",
    "                   [1, 1, 1],\n",
    "                   [-1, 1, 1]])\n",
    "\n",
    "def points_to_verts(Z):\n",
    "    return [[Z[0],Z[1],Z[2],Z[3]],\n",
    "            [Z[4],Z[5],Z[6],Z[7]], \n",
    "            [Z[0],Z[1],Z[5],Z[4]], \n",
    "            [Z[2],Z[3],Z[7],Z[6]], \n",
    "            [Z[1],Z[2],Z[6],Z[5]],\n",
    "            [Z[4],Z[7],Z[3],Z[0]]]\n",
    "\n",
    "def build_rot_mat(theta):\n",
    "    return np.array([[np.sin(theta), np.cos(theta), 0],\n",
    "                  [np.cos(theta), -np.sin(theta), 0],\n",
    "                  [0, 0, 1]])\n",
    "\n",
    "def rotate_points(points, theta):\n",
    "    return np.array([np.dot(build_rot_mat(theta), point) for point in points])\n",
    "\n",
    "# Attaching 3D axis to the figure\n",
    "fig = plt.figure(figsize=(15,5))\n",
    "ax  = fig.add_subplot(121, projection='3d')\n",
    "ax2 = fig.add_subplot(122)\n",
    "\n",
    "# 3d simulation\n",
    "collection = Poly3DCollection(points_to_verts(points), facecolors='grey', linewidths=1, edgecolors='black', alpha=0.9)\n",
    "ax.add_collection3d(collection)\n",
    "\n",
    "# 2d plot\n",
    "line = []\n",
    "plotter, = ax2.plot([], [])\n",
    "\n",
    "def update(num, points, line):\n",
    "    points = rotate_points(points, 0.01*num)\n",
    "    ax.collections[0].set_verts(points_to_verts(points))\n",
    "    line.append([0.01*num]) \n",
    "    plotter.set_data(np.arange(0, len(line), 1), line)\n",
    "    ax2.set_xlim(0, len(line))\n",
    "\n",
    "\n",
    "# Setting the axes properties\n",
    "ax.set_xlim3d([-2.0, 2.0])\n",
    "ax.set_xlabel('X')\n",
    "ax.set_ylim3d([-2.0, 2.0])\n",
    "ax.set_ylabel('Y')\n",
    "ax.set_zlim3d([-2.0, 2.0])\n",
    "ax.set_zlabel('Z')\n",
    "ax.set_title('3D Simulation')\n",
    "\n",
    "ax2.set_ylim(0, 0.5)\n",
    "\n",
    "# Creating the Animation object\n",
    "line_ani = animation.FuncAnimation(fig, update, 20, fargs=(points, line),\n",
    "                                   interval=100, blit=False)\n",
    "\n",
    "plt.show()"
   ]
  },
  {
   "cell_type": "markdown",
   "metadata": {},
   "source": [
    "# References\n",
    "[Passive Magentic Attitude Control fro Cubesat Spacecraft](https://lasp.colorado.edu/home/csswe/files/2012/06/Gerhardt_SSC10_PMAC.pdf)\n",
    "\n",
    "[Comparison of Control Laws for Magnetic Detumbling](https://www.researchgate.net/publication/263008407_Comparison_of_Control_Laws_for_Magnetic_Detumbling)\n",
    "[]()\n",
    "\n",
    "\n",
    "https://docs.google.com/document/d/16QsLCta1YLF__5pwcChfcjYQvqa9x6MZi19Ohj2Yuls/edit\n",
    "\n",
    "https://www.youtube.com/playlist?list=PL_D7_GvGz-v3mDQ9iR-cfjXsQf4DeR1_H\n",
    "\n",
    "https://pypi.org/project/pyIGRF/\n",
    "\n",
    "https://stackoverflow.com/questions/53074908/map-an-image-onto-a-sphere-and-plot-3d-trajectories\n"
   ]
  },
  {
   "cell_type": "code",
   "execution_count": 7,
   "metadata": {},
   "outputs": [],
   "source": [
    "import matplotlib.pyplot as plt\n",
    "from mpl_toolkits.mplot3d import Axes3D\n",
    "def mpl_sphere(image_file):\n",
    "    img = plt.imread(image_file)\n",
    "\n",
    "    # define a grid matching the map size, subsample along with pixels\n",
    "    theta = np.linspace(0, np.pi, img.shape[0])\n",
    "    phi = np.linspace(0, 2*np.pi, img.shape[1])\n",
    "\n",
    "    count = 100 # keep 180 points along theta and phi\n",
    "    theta_inds = np.linspace(0, img.shape[0] - 1, count).round().astype(int)\n",
    "    phi_inds = np.linspace(0, img.shape[1] - 1, count).round().astype(int)\n",
    "    theta = theta[theta_inds]\n",
    "    phi = phi[phi_inds]\n",
    "    img = img[np.ix_(theta_inds, phi_inds)]\n",
    "\n",
    "    theta,phi = np.meshgrid(theta, phi)\n",
    "    R = 1\n",
    "\n",
    "    # sphere\n",
    "    x = R * np.sin(theta) * np.cos(phi)\n",
    "    y = R * np.sin(theta) * np.sin(phi)\n",
    "    z = R * np.cos(theta)\n",
    "\n",
    "    # create 3d Axes\n",
    "    fig = plt.figure()\n",
    "    ax = fig.add_subplot(111, aspect='auto', projection='3d')\n",
    "    ax.plot_surface(x.T, y.T, z.T, facecolors=img/255, cstride=1, rstride=1) # we've already pruned ourselves\n",
    "\n",
    "    # make the plot more spherical\n",
    "    ax.set_aspect('equal')\n",
    "    plt.show()"
   ]
  },
  {
   "cell_type": "code",
   "execution_count": 3,
   "metadata": {},
   "outputs": [
    {
     "name": "stdout",
     "output_type": "stream",
     "text": [
      "Notebook initialized with ipy backend.\n"
     ]
    }
   ],
   "source": [
    "from mayavi import mlab\n",
    "mlab.init_notebook()\n",
    "from tvtk.api import tvtk\n",
    "\n",
    "def auto_sphere(image_file):\n",
    "    # create a figure window (and scene)\n",
    "    fig = mlab.figure(size=(600, 600))\n",
    "\n",
    "    # load and map the texture\n",
    "    img = tvtk.JPEGReader()\n",
    "    img.file_name = image_file\n",
    "    texture = tvtk.Texture(input_connection=img.output_port, interpolate=1)\n",
    "    # (interpolate for a less raster appearance when zoomed in)\n",
    "\n",
    "    # use a TexturedSphereSource, a.k.a. getting our hands dirty\n",
    "    R = 1\n",
    "    Nrad = 180\n",
    "\n",
    "    # create the sphere source with a given radius and angular resolution\n",
    "    sphere = tvtk.TexturedSphereSource(radius=R, theta_resolution=Nrad,\n",
    "                                       phi_resolution=Nrad)\n",
    "\n",
    "    # assemble rest of the pipeline, assign texture    \n",
    "    sphere_mapper = tvtk.PolyDataMapper(input_connection=sphere.output_port)\n",
    "    sphere_actor = tvtk.Actor(mapper=sphere_mapper, texture=texture)\n",
    "    fig.scene.add_actor(sphere_actor)\n",
    "\n",
    "\n",
    "image_file = 'earth.jpg'\n",
    "auto_sphere(image_file)\n",
    "mlab.show()"
   ]
  },
  {
   "cell_type": "code",
   "execution_count": null,
   "metadata": {},
   "outputs": [],
   "source": []
  },
  {
   "cell_type": "code",
   "execution_count": null,
   "metadata": {},
   "outputs": [],
   "source": []
  }
 ],
 "metadata": {
  "kernelspec": {
   "display_name": "cubesat",
   "language": "python",
   "name": "cubesat"
  },
  "language_info": {
   "codemirror_mode": {
    "name": "ipython",
    "version": 3
   },
   "file_extension": ".py",
   "mimetype": "text/x-python",
   "name": "python",
   "nbconvert_exporter": "python",
   "pygments_lexer": "ipython3",
   "version": "3.8.5"
  }
 },
 "nbformat": 4,
 "nbformat_minor": 4
}
