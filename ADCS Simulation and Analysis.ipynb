{
 "cells": [
  {
   "cell_type": "markdown",
   "metadata": {},
   "source": [
    "# ADCS Simulator and System Modeling / Selection Notebook \n",
    "Follow the readme to install dependencies and correctly configure you environment/machine to run the varios blocks."
   ]
  },
  {
   "cell_type": "code",
   "execution_count": 1,
   "metadata": {},
   "outputs": [],
   "source": [
    "%matplotlib widget\n",
    "import numpy as np\n",
    "import math\n",
    "import matplotlib.pyplot as plt"
   ]
  },
  {
   "cell_type": "code",
   "execution_count": 2,
   "metadata": {},
   "outputs": [],
   "source": [
    "import lib.physics as physics\n",
    "import lib.cubesat as cubesat\n",
    "import lib.renderer as renderer"
   ]
  },
  {
   "cell_type": "code",
   "execution_count": null,
   "metadata": {},
   "outputs": [],
   "source": [
    "def vcircular(altitude):\n",
    "    return math.sqrt(physics.Consts.mu / (altitude + physics.Consts.R_earth))\n",
    "\n",
    "initial_state  = cubesat.State(physics.Consts.ISS_altitude + physics.Consts.R_earth, 0, 0, 0, vcircular(physics.Consts.ISS_altitude), 0) # x, y, z, dx, dy, dz\n",
    "qubesat = cubesat.Cubesat(1, length=0.1, width=0.1, height=0.1) # mass in kg, length, width, height in m\n",
    "\n",
    "planet  = physics.Planet(physics.Consts.M_earth, physics.Consts.R_earth) # mass in kg, radius in meters\n",
    "# planet  = physics.Planet(10, 200) # mass in kg, radius in meters"
   ]
  },
  {
   "cell_type": "code",
   "execution_count": 10,
   "metadata": {},
   "outputs": [],
   "source": [
    "class State:\n",
    "    def __init__(self, x, y, z, dx, dy, dz):\n",
    "        \"\"\"\n",
    "        Structure of the state vector (units are m and m/s)\n",
    "        x, y, z, dx, dy, dz\n",
    "        \"\"\"\n",
    "        self.state_vector = np.array([x, y, z, dx, dy, dz])\n",
    "        \n",
    "    def get_earth_referenced():\n",
    "        # altitude, lat, long, v_altitude, v_lat, v_long, quaternion rotation\n",
    "        return None\n",
    "    \n",
    "    def get_cubesat_referenced():\n",
    "        # x, y, z, x_v, y_v, z_v,  quaternion rotation\n",
    "        return None\n",
    "    \n",
    "    def get_cubesat_earth_transform():\n",
    "        # homogeneous transformation matrix for the transformation between the qubesat and the earth\n",
    "        return None\n",
    "    \n",
    "def state_from_vector(vector):\n",
    "    return State(vector[0], vector[1], vector[2], vector[3], vector[4], vector[5])"
   ]
  },
  {
   "cell_type": "code",
   "execution_count": 30,
   "metadata": {},
   "outputs": [],
   "source": [
    "class Simulator:\n",
    "    def __init__(self, cubesat, planet, state, dt=0.1):\n",
    "        \"\"\"\n",
    "        time and step size in seconds\n",
    "        \"\"\"\n",
    "        self.dt = dt\n",
    "        self.cubesat = cubesat\n",
    "        self.planet = planet\n",
    "        self.elapsed_time = 0\n",
    "        self.state = state\n",
    "        # functions that take in a state and returns a force vector <Fx,Fy,Fz> acting on the COM of the cubesat\n",
    "        self.forces = []\n",
    "        # functions that take in a state and returns an acceleration vector <ax,ay,az> acting on the COM of the cubesat\n",
    "        self.accelerations = []\n",
    "        \n",
    "        # The new state is provided by the following equation\n",
    "        # xk = Axk-1 + Buk-1 + wk-1\n",
    "        # u is the vector sum of all the accelerations\n",
    "        \n",
    "        # 3D state matrix - A\n",
    "        self.A = np.array([[1, 0, 0, self.dt, 0, 0],\n",
    "                          [0, 1, 0, 0, self.dt, 0],\n",
    "                          [0, 0, 1, 0, 0, self.dt],\n",
    "                          [0, 0, 0, 1, 0, 0],\n",
    "                          [0, 0, 0, 0, 1, 0],\n",
    "                          [0, 0, 0, 0, 0, 1]]) \n",
    "        \n",
    "        # 3D control matrix - B\n",
    "        self.B = np.array([[1/2*self.dt**2, 0, 0],\n",
    "                          [0, 1/2*self.dt**2, 0],\n",
    "                          [0, 0, 1/2*self.dt**2],\n",
    "                          [self.dt, 0, 0],\n",
    "                          [0, self.dt, 0],\n",
    "                          [0, 0, self.dt]])\n",
    "        \n",
    "    def step(self):\n",
    "        # compute acceleration vector from gravity assuming points mass of the earth and satelite\n",
    "        # [x,y,z]/|[x,y,z]| <- assumes point mass earth with center at (0,0,0)\n",
    "\n",
    "        net_force = np.zeros(3)\n",
    "        for forcer in self.forces:\n",
    "            net_force += forcer(self.state, self.cubesat, self.planet)\n",
    "            \n",
    "        net_acc = np.zeros(3)\n",
    "        for aaccelerator in self.accelerations:\n",
    "            net_acc += aaccelerator(self.state, self.cubesat, self.planet)\n",
    "            \n",
    "        net_acc += net_force / self.cubesat.mass\n",
    "        \n",
    "        self.state = state_from_vector(np.dot(self.A, self.state.state_vector) + np.dot(self.B, net_acc))\n",
    "        self.elapsed_time += self.dt\n",
    "        return (self.elapsed_time, self.state)\n",
    "    \n",
    "    def add_forcer(self, forcer):\n",
    "        self.forces.append(forcer)\n",
    "        \n",
    "    def add_accelerator(self, accelerator):\n",
    "        self.accelerations.append(accelerator)"
   ]
  },
  {
   "cell_type": "code",
   "execution_count": 155,
   "metadata": {},
   "outputs": [],
   "source": [
    "class XYZPlot:\n",
    "    def __init__(self):\n",
    "        pass\n",
    "    \n",
    "    def build(self, states, time_stamps, ax):\n",
    "        x = [state.state_vector[0] for state in states]\n",
    "        y = [state.state_vector[1] for state in states]\n",
    "        z = [state.state_vector[2] for state in states]\n",
    "        ax.plot(time_stamps, x, color=\"red\", label='x')\n",
    "        ax.plot(time_stamps, y, color=\"green\", label='y')\n",
    "        ax.plot(time_stamps, z, color=\"blue\", label='z')\n",
    "        ax.set_title(\"Position Plot\")\n",
    "        ax.set_xlabel(\"time (s)\")\n",
    "        ax.set_ylabel(\"position xyz (m)\")\n",
    "        \n",
    "        # build a rectangle in axes coords\n",
    "        left, width = .25, .5\n",
    "        bottom, height = .25, .5\n",
    "        right = left + width\n",
    "        top = bottom + height\n",
    "        \n",
    "        ax.text(1, 0, \"Hello there\", fontsize=12, transform=ax.transAxes)\n",
    "        handles, labels = ax.get_legend_handles_labels()\n",
    "        ax.legend(handles, labels, loc='lower left')\n",
    "\n",
    "\n",
    "class Renderer:\n",
    "    def __init__(self):\n",
    "        self.stop_condition = stop_condition\n",
    "        self.time_stamps = []\n",
    "        self.states = []\n",
    "        self.plots = []\n",
    "        \n",
    "    def run(self, simulation, stop_condition):\n",
    "        while not stop_condition(self.states, self.time_stamps):\n",
    "            time, state = simulator.step()\n",
    "            self.states.append(state)\n",
    "            self.time_stamps.append(time)\n",
    "            \n",
    "    def add_plot(self, plot):\n",
    "        self.plots.append(plot)\n",
    "                    \n",
    "    def render(self, figsize=(7,5), columns=3):\n",
    "        fig = plt.figure(figsize=figsize)\n",
    "        for i, plot in enumerate(self.plots):\n",
    "            ax = fig.add_subplot((len(self.plots)+1)//columns if not columns == 1 else len(self.plots), columns, i+1)\n",
    "            plot.build(self.states, self.time_stamps, ax)\n",
    "        plt.show()"
   ]
  },
  {
   "cell_type": "code",
   "execution_count": 156,
   "metadata": {},
   "outputs": [
    {
     "data": {
      "application/vnd.jupyter.widget-view+json": {
       "model_id": "5e2ad04a52344d968edad86e8f8ff136",
       "version_major": 2,
       "version_minor": 0
      },
      "text/plain": [
       "Canvas(toolbar=Toolbar(toolitems=[('Home', 'Reset original view', 'home', 'home'), ('Back', 'Back to previous …"
      ]
     },
     "metadata": {},
     "output_type": "display_data"
    }
   ],
   "source": [
    "%matplotlib widget\n",
    "import matplotlib.pyplot as plt\n",
    "import matplotlib.animation as animation\n",
    "\n",
    "def gravitational_force(state):\n",
    "    r_hat = state.state_vector[:3]/np.linalg.norm(state.state_vector[:3])\n",
    "    a = -physics.Consts.G * cubesat.mass * planet.mass / np.linalg.norm(state[:3])**2 * r_hat\n",
    "\n",
    "def gravitational_forcer(state, cubesat, planet):\n",
    "    return planet.get_gravitational_acceleration(state)\n",
    "\n",
    "\n",
    "state = State(physics.Consts.ISS_altitude + physics.Consts.R_earth, 0, 0, 0, vcircular(physics.Consts.ISS_altitude), 0)\n",
    "simulator = Simulator(qubesat, planet, state, 1)\n",
    "simulator.add_accelerator(gravitational_forcer)\n",
    "\n",
    "stop_condition = lambda states, times: len(states) > 10000\n",
    "renderer = Renderer()\n",
    "renderer.run(simulator, stop_condition)\n",
    "plot1 = Plot()\n",
    "renderer.add_plot(plot)\n",
    "\n",
    "renderer.render(figsize=(5,5), columns=1)"
   ]
  },
  {
   "cell_type": "markdown",
   "metadata": {},
   "source": [
    "# References\n",
    "[Passive Magentic Attitude Control fro Cubesat Spacecraft](https://lasp.colorado.edu/home/csswe/files/2012/06/Gerhardt_SSC10_PMAC.pdf)\n",
    "\n",
    "[Comparison of Control Laws for Magnetic Detumbling](https://www.researchgate.net/publication/263008407_Comparison_of_Control_Laws_for_Magnetic_Detumbling)\n",
    "[]()\n",
    "\n",
    "\n",
    "https://docs.google.com/document/d/16QsLCta1YLF__5pwcChfcjYQvqa9x6MZi19Ohj2Yuls/edit\n",
    "\n",
    "https://www.youtube.com/playlist?list=PL_D7_GvGz-v3mDQ9iR-cfjXsQf4DeR1_H\n",
    "\n",
    "https://pypi.org/project/pyIGRF/\n",
    "\n",
    "https://stackoverflow.com/questions/53074908/map-an-image-onto-a-sphere-and-plot-3d-trajectories\n"
   ]
  },
  {
   "cell_type": "code",
   "execution_count": 54,
   "metadata": {},
   "outputs": [],
   "source": [
    "x = [9, 10, 11, 12]\n",
    "x_t = [0.1, 0.2, 0.3, 0.1]\n",
    "y = [5, 6, 7, 8]\n",
    "z = [1, 2, 3, 4]"
   ]
  },
  {
   "cell_type": "code",
   "execution_count": 84,
   "metadata": {},
   "outputs": [
    {
     "data": {
      "application/vnd.jupyter.widget-view+json": {
       "model_id": "685d1c2891454711b6ed941dfd0e7e2b",
       "version_major": 2,
       "version_minor": 0
      },
      "text/plain": [
       "Canvas(toolbar=Toolbar(toolitems=[('Home', 'Reset original view', 'home', 'home'), ('Back', 'Back to previous …"
      ]
     },
     "metadata": {},
     "output_type": "display_data"
    }
   ],
   "source": [
    "fig = plt.figure(figsize=(5,5))\n",
    "ax = fig.add_subplot(231)\n",
    "ax = fig.add_subplot(232)\n",
    "ax = fig.add_subplot(233)\n",
    "ax = fig.add_subplot(234)\n",
    "ax = fig.add_subplot(235)\n",
    "\n",
    "\n",
    "\n",
    "\n",
    "\n",
    "\n",
    "# ax.plot(x_t, x, color=\"red\", label='x', linestyle='--')\n",
    "# ax.plot(y, color=\"green\", label='y')\n",
    "# ax.plot(z, color=\"blue\", label='z')\n",
    "# ax.set_title(\"Here\")\n",
    "# ax.set_xlabel(\"time (s)\")\n",
    "# ax.set_ylabel(\"position (m)\")\n",
    "# handles, labels = ax.get_legend_handles_labels()\n",
    "# ax.legend(handles, labels)"
   ]
  },
  {
   "cell_type": "code",
   "execution_count": null,
   "metadata": {},
   "outputs": [],
   "source": []
  }
 ],
 "metadata": {
  "kernelspec": {
   "display_name": "cubesat",
   "language": "python",
   "name": "cubesat"
  },
  "language_info": {
   "codemirror_mode": {
    "name": "ipython",
    "version": 3
   },
   "file_extension": ".py",
   "mimetype": "text/x-python",
   "name": "python",
   "nbconvert_exporter": "python",
   "pygments_lexer": "ipython3",
   "version": "3.8.5"
  }
 },
 "nbformat": 4,
 "nbformat_minor": 4
}
