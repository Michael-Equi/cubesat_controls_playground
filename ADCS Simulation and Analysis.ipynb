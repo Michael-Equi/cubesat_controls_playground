{
 "cells": [
  {
   "cell_type": "markdown",
   "metadata": {},
   "source": [
    "# ADCS Simulator and System Modeling / Selection Notebook \n",
    "Follow the readme to install dependencies and correctly configure you environment/machine to run the varios blocks."
   ]
  },
  {
   "cell_type": "code",
   "execution_count": 1,
   "metadata": {},
   "outputs": [],
   "source": [
    "%matplotlib widget\n",
    "import numpy as np\n",
    "import math\n",
    "import matplotlib.pyplot as plt\n",
    "from matplotlib.animation import FuncAnimation"
   ]
  },
  {
   "cell_type": "code",
   "execution_count": 2,
   "metadata": {},
   "outputs": [],
   "source": [
    "import lib.physics as physics\n",
    "import lib.cubesat as cubesat\n",
    "import lib.renderer as renderer"
   ]
  },
  {
   "cell_type": "code",
   "execution_count": 3,
   "metadata": {},
   "outputs": [],
   "source": [
    "def vcircular(altitude):\n",
    "    return math.sqrt(physics.Consts.mu / (altitude + physics.Consts.R_earth))\n",
    "\n",
    "initial_state  = cubesat.State(physics.Consts.ISS_altitude + physics.Consts.R_earth, 0, 0, 0, vcircular(physics.Consts.ISS_altitude), 0) # x, y, z, dx, dy, dz\n",
    "qubesat = cubesat.Cubesat(1, length=0.1, width=0.1, height=0.1) # mass in kg, length, width, height in m\n",
    "\n",
    "planet  = physics.Planet(physics.Consts.M_earth, physics.Consts.R_earth) # mass in kg, radius in meters\n",
    "# planet  = physics.Planet(10, 200) # mass in kg, radius in meters"
   ]
  },
  {
   "cell_type": "code",
   "execution_count": 4,
   "metadata": {},
   "outputs": [],
   "source": [
    "class Simulator:\n",
    "    def __init__(self, cubesat, planet, state, dt=0.1):\n",
    "        \"\"\"\n",
    "        time and step size in seconds\n",
    "        \"\"\"\n",
    "        self.dt = dt\n",
    "        self.cubesat = cubesat\n",
    "        self.planet = planet\n",
    "        self.elapsed_time = 0\n",
    "        self.state = state\n",
    "        \n",
    "        # The new state is provided by the following equation\n",
    "        # xk = Axk-1 + Buk-1 + wk-1\n",
    "        # u is the vector sum of all the accelerations\n",
    "        \n",
    "        # 3D state matrix - A\n",
    "        self.A = np.array([[1, 0, 0, self.dt, 0, 0],\n",
    "                          [0, 1, 0, 0, self.dt, 0],\n",
    "                          [0, 0, 1, 0, 0, self.dt],\n",
    "                          [0, 0, 0, 1, 0, 0],\n",
    "                          [0, 0, 0, 0, 1, 0],\n",
    "                          [0, 0, 0, 0, 0, 1]]) \n",
    "        \n",
    "        # 3D control matrix - B\n",
    "        self.B = np.array([[1/2*self.dt**2, 0, 0],\n",
    "                          [0, 1/2*self.dt**2, 0],\n",
    "                          [0, 0, 1/2*self.dt**2],\n",
    "                          [self.dt, 0, 0],\n",
    "                          [0, self.dt, 0],\n",
    "                          [0, 0, self.dt]])\n",
    "        \n",
    "    def step(self):\n",
    "        # compute acceleration vector from gravity assuming points mass of the earth and satelite\n",
    "        # [x,y,z]/|[x,y,z]| <- assumes point mass earth with center at (0,0,0)\n",
    "        r_hat = self.state[:3]/np.linalg.norm(self.state[:3])\n",
    "        a = -physics.Consts.G * qubesat.mass * planet.mass / np.linalg.norm(self.state[:3])**2 * r_hat\n",
    "        self.state = np.dot(self.A, self.state) + np.dot(self.B, a)\n",
    "        self.elapsed_time += self.dt\n",
    "        return (self.elapsed_time, self.state)"
   ]
  },
  {
   "cell_type": "code",
   "execution_count": 5,
   "metadata": {},
   "outputs": [
    {
     "data": {
      "application/vnd.jupyter.widget-view+json": {
       "model_id": "8e8c19cf37dc46499956bdfa2c4dd691",
       "version_major": 2,
       "version_minor": 0
      },
      "text/plain": [
       "Canvas(toolbar=Toolbar(toolitems=[('Home', 'Reset original view', 'home', 'home'), ('Back', 'Back to previous …"
      ]
     },
     "metadata": {},
     "output_type": "display_data"
    },
    {
     "data": {
      "text/plain": [
       "[<matplotlib.lines.Line2D at 0x7fd7e0740730>]"
      ]
     },
     "execution_count": 5,
     "metadata": {},
     "output_type": "execute_result"
    }
   ],
   "source": [
    "%matplotlib widget\n",
    "import matplotlib.pyplot as plt\n",
    "import matplotlib.animation as animation\n",
    "\n",
    "\n",
    "state = np.array([physics.Consts.ISS_altitude + physics.Consts.R_earth, 0, 0, 0, vcircular(physics.Consts.ISS_altitude), 0])\n",
    "simulator = Simulator(cubesat, planet, state, 10)\n",
    "\n",
    "fig = plt.figure(figsize=(5,5))\n",
    "ax = fig.add_subplot(1,1,1)\n",
    "\n",
    "# 2d plot\n",
    "state_x = []\n",
    "state_y = []\n",
    "state_z = []\n",
    "\n",
    "line = []\n",
    "plotter, = ax.plot([])\n",
    "\n",
    "time = 0\n",
    "while time < 10000:\n",
    "    state_x.append(state[0])\n",
    "    state_y.append(state[1])\n",
    "    time, state = simulator.step()\n",
    "\n",
    "plt.plot(state_x, state_y)\n",
    "\n",
    "\n",
    "# def update(num, simulator):\n",
    "#     state = simulator.step()\n",
    "#     state_x.append(state[1][0])\n",
    "#     state_y.append(state[1][1])\n",
    "\n",
    "    \n",
    "#     state_x.append(state[0])\n",
    "#     state_y.append(state[1])\n",
    "#     state_z.append(state[2])\n",
    "    \n",
    "#     plotter.set_data(np.arange(0, len(state_x), 1), state_x)\n",
    "#     ax.set_ylim(0, max(state_x))\n",
    "#     ax.set_xlim(0, len(state_x))\n",
    "#     ax.set_ylim(0, num)\n",
    "#     ax.set_xlim(0, num)\n",
    "    \n",
    "\n",
    "# line_ani = animation.FuncAnimation(fig, update, 20, fargs=(simulator),\n",
    "#                                    interval=100, blit=False)\n",
    "\n",
    "\n",
    "# plt.show()"
   ]
  },
  {
   "cell_type": "code",
   "execution_count": 10,
   "metadata": {},
   "outputs": [
    {
     "data": {
      "application/vnd.jupyter.widget-view+json": {
       "model_id": "2e35291e1db04fada8efd7450977c387",
       "version_major": 2,
       "version_minor": 0
      },
      "text/plain": [
       "Canvas(toolbar=Toolbar(toolitems=[('Home', 'Reset original view', 'home', 'home'), ('Back', 'Back to previous …"
      ]
     },
     "metadata": {},
     "output_type": "display_data"
    }
   ],
   "source": [
    "fig = plt.figure(figsize=(5,5))\n",
    "ax = fig.add_subplot(111)\n",
    "xdata, ydata = [], []\n",
    "ln, = plt.plot([], [])\n",
    "\n",
    "state = np.array([physics.Consts.ISS_altitude + physics.Consts.R_earth, 0, 0, 0, vcircular(physics.Consts.ISS_altitude), 0])\n",
    "simulator = Simulator(cubesat, planet, state, 10)\n",
    "\n",
    "def update(frame, simulator, _):\n",
    "    state = simulator.step()[1]\n",
    "    xdata.append(state[0])\n",
    "    ydata.append(state[1])\n",
    "    ln.set_data(ydata, xdata)\n",
    "    return ln,\n",
    "\n",
    "ax.set_ylim(-5e7, 5e7)\n",
    "ax.set_xlim(-5e7, 5e7)    \n",
    "ani = FuncAnimation(fig, update, 1000, fargs=(simulator, 0), interval=1, blit=True)\n",
    "plt.show()"
   ]
  },
  {
   "cell_type": "code",
   "execution_count": 14,
   "metadata": {},
   "outputs": [
    {
     "data": {
      "application/vnd.jupyter.widget-view+json": {
       "model_id": "d402fe52d1884494945d17e863198114",
       "version_major": 2,
       "version_minor": 0
      },
      "text/plain": [
       "Canvas(toolbar=Toolbar(toolitems=[('Home', 'Reset original view', 'home', 'home'), ('Back', 'Back to previous …"
      ]
     },
     "metadata": {},
     "output_type": "display_data"
    }
   ],
   "source": [
    "fig = plt.figure(figsize=(5,5))\n",
    "ax = fig.add_subplot(111, projection='3d')\n",
    "xdata, ydata, zdata = [], [], []\n",
    "ln, = plt.plot([], [])\n",
    "\n",
    "state = np.array([physics.Consts.ISS_altitude + physics.Consts.R_earth, 0, 0, 0, vcircular(physics.Consts.ISS_altitude), 0])\n",
    "simulator = Simulator(cubesat, planet, state, 1)\n",
    "\n",
    "time = 0\n",
    "def update(frame, simulator, _):\n",
    "    time, state = simulator.step()\n",
    "    last_time = time\n",
    "    while time - last_time < 100:\n",
    "        time, state = simulator.step()\n",
    "    xdata.append(state[0])\n",
    "    ydata.append(state[1])\n",
    "    zdata.append(state[2])\n",
    "    ax.plot3D(xdata, ydata, zdata, 'gray')\n",
    "    return ln,\n",
    "\n",
    "ax.set_ylim(-5e7, 5e7)\n",
    "ax.set_xlim(-5e7, 5e7)    \n",
    "ani = FuncAnimation(fig, update, 100, fargs=(simulator, 0), interval=1, blit=True)\n",
    "plt.show()"
   ]
  },
  {
   "cell_type": "code",
   "execution_count": 33,
   "metadata": {},
   "outputs": [
    {
     "data": {
      "application/vnd.jupyter.widget-view+json": {
       "model_id": "c46eec80bc5a40588af92d9c25e0c42a",
       "version_major": 2,
       "version_minor": 0
      },
      "text/plain": [
       "Canvas(toolbar=Toolbar(toolitems=[('Home', 'Reset original view', 'home', 'home'), ('Back', 'Back to previous …"
      ]
     },
     "metadata": {},
     "output_type": "display_data"
    }
   ],
   "source": [
    "fig = plt.figure(figsize=(5,5))\n",
    "plt.plot(xdata, ydata)\n",
    "plt.show()"
   ]
  },
  {
   "cell_type": "code",
   "execution_count": 9,
   "metadata": {},
   "outputs": [
    {
     "data": {
      "application/vnd.jupyter.widget-view+json": {
       "model_id": "526d7a4384e44d52baa2fd62efdc090f",
       "version_major": 2,
       "version_minor": 0
      },
      "text/plain": [
       "Canvas(toolbar=Toolbar(toolitems=[('Home', 'Reset original view', 'home', 'home'), ('Back', 'Back to previous …"
      ]
     },
     "metadata": {},
     "output_type": "display_data"
    }
   ],
   "source": [
    "fig = plt.figure(figsize=(5,5))\n",
    "ax  = fig.add_subplot(111)\n",
    "\n",
    "# 2d plot\n",
    "line = []\n",
    "plotter, = ax.plot([], [])\n",
    "\n",
    "points = False\n",
    "\n",
    "def update(num):\n",
    "    line.append([0.1*num]) \n",
    "    plotter.set_data(np.arange(0, len(line), 1), line)\n",
    "    ax.set_xlim(0, len(line))\n",
    "\n",
    "ax.set_ylim(0, 5)\n",
    "\n",
    "\n",
    "# Creating the Animation object\n",
    "line_ani = animation.FuncAnimation(fig, update, 20, fargs=None,\n",
    "                                   interval=100, blit=False)\n",
    "\n",
    "plt.show()"
   ]
  },
  {
   "cell_type": "code",
   "execution_count": 12,
   "metadata": {},
   "outputs": [
    {
     "data": {
      "application/vnd.jupyter.widget-view+json": {
       "model_id": "d6804841dbed4678b8daa81ef0f56af6",
       "version_major": 2,
       "version_minor": 0
      },
      "text/plain": [
       "Canvas(toolbar=Toolbar(toolitems=[('Home', 'Reset original view', 'home', 'home'), ('Back', 'Back to previous …"
      ]
     },
     "metadata": {},
     "output_type": "display_data"
    }
   ],
   "source": [
    "from mpl_toolkits.mplot3d.art3d import Poly3DCollection\n",
    "\n",
    "points = np.array([[-1, -1, -1],\n",
    "                   [1, -1, -1 ],\n",
    "                   [1, 1, -1],\n",
    "                   [-1, 1, -1],\n",
    "                   [-1, -1, 1],\n",
    "                   [1, -1, 1 ],\n",
    "                   [1, 1, 1],\n",
    "                   [-1, 1, 1]])\n",
    "\n",
    "def points_to_verts(Z):\n",
    "    return [[Z[0],Z[1],Z[2],Z[3]],\n",
    "            [Z[4],Z[5],Z[6],Z[7]], \n",
    "            [Z[0],Z[1],Z[5],Z[4]], \n",
    "            [Z[2],Z[3],Z[7],Z[6]], \n",
    "            [Z[1],Z[2],Z[6],Z[5]],\n",
    "            [Z[4],Z[7],Z[3],Z[0]]]\n",
    "\n",
    "def build_rot_mat(theta):\n",
    "    return np.array([[np.sin(theta), np.cos(theta), 0],\n",
    "                  [np.cos(theta), -np.sin(theta), 0],\n",
    "                  [0, 0, 1]])\n",
    "\n",
    "def rotate_points(points, theta):\n",
    "    return np.array([np.dot(build_rot_mat(theta), point) for point in points])\n",
    "\n",
    "# Attaching 3D axis to the figure\n",
    "fig = plt.figure(figsize=(15,5))\n",
    "ax  = fig.add_subplot(121, projection='3d')\n",
    "ax2 = fig.add_subplot(122)\n",
    "\n",
    "# 3d simulation\n",
    "collection = Poly3DCollection(points_to_verts(points), facecolors='grey', linewidths=1, edgecolors='black', alpha=0.9)\n",
    "ax.add_collection3d(collection)\n",
    "\n",
    "# 2d plot\n",
    "line = []\n",
    "plotter, = ax2.plot([], [])\n",
    "\n",
    "def update(num, points, line):\n",
    "    points = rotate_points(points, 0.01*num)\n",
    "    ax.collections[0].set_verts(points_to_verts(points))\n",
    "    line.append([0.01*num]) \n",
    "    plotter.set_data(np.arange(0, len(line), 1), line)\n",
    "    ax2.set_xlim(0, len(line))\n",
    "\n",
    "\n",
    "# Setting the axes properties\n",
    "ax.set_xlim3d([-2.0, 2.0])\n",
    "ax.set_xlabel('X')\n",
    "ax.set_ylim3d([-2.0, 2.0])\n",
    "ax.set_ylabel('Y')\n",
    "ax.set_zlim3d([-2.0, 2.0])\n",
    "ax.set_zlabel('Z')\n",
    "ax.set_title('3D Simulation')\n",
    "\n",
    "ax2.set_ylim(0, 0.5)\n",
    "\n",
    "# Creating the Animation object\n",
    "line_ani = animation.FuncAnimation(fig, update, 20, fargs=(points, line),\n",
    "                                   interval=100, blit=True)\n",
    "\n",
    "plt.show()"
   ]
  },
  {
   "cell_type": "markdown",
   "metadata": {},
   "source": [
    "# References\n",
    "[Passive Magentic Attitude Control fro Cubesat Spacecraft](https://lasp.colorado.edu/home/csswe/files/2012/06/Gerhardt_SSC10_PMAC.pdf)\n",
    "\n",
    "[Comparison of Control Laws for Magnetic Detumbling](https://www.researchgate.net/publication/263008407_Comparison_of_Control_Laws_for_Magnetic_Detumbling)\n",
    "[]()\n",
    "\n",
    "\n",
    "https://docs.google.com/document/d/16QsLCta1YLF__5pwcChfcjYQvqa9x6MZi19Ohj2Yuls/edit\n",
    "\n",
    "https://www.youtube.com/playlist?list=PL_D7_GvGz-v3mDQ9iR-cfjXsQf4DeR1_H\n",
    "\n",
    "https://pypi.org/project/pyIGRF/\n",
    "\n",
    "https://stackoverflow.com/questions/53074908/map-an-image-onto-a-sphere-and-plot-3d-trajectories\n"
   ]
  },
  {
   "cell_type": "code",
   "execution_count": 7,
   "metadata": {},
   "outputs": [],
   "source": [
    "import matplotlib.pyplot as plt\n",
    "from mpl_toolkits.mplot3d import Axes3D\n",
    "def mpl_sphere(image_file):\n",
    "    img = plt.imread(image_file)\n",
    "\n",
    "    # define a grid matching the map size, subsample along with pixels\n",
    "    theta = np.linspace(0, np.pi, img.shape[0])\n",
    "    phi = np.linspace(0, 2*np.pi, img.shape[1])\n",
    "\n",
    "    count = 100 # keep 180 points along theta and phi\n",
    "    theta_inds = np.linspace(0, img.shape[0] - 1, count).round().astype(int)\n",
    "    phi_inds = np.linspace(0, img.shape[1] - 1, count).round().astype(int)\n",
    "    theta = theta[theta_inds]\n",
    "    phi = phi[phi_inds]\n",
    "    img = img[np.ix_(theta_inds, phi_inds)]\n",
    "\n",
    "    theta,phi = np.meshgrid(theta, phi)\n",
    "    R = 1\n",
    "\n",
    "    # sphere\n",
    "    x = R * np.sin(theta) * np.cos(phi)\n",
    "    y = R * np.sin(theta) * np.sin(phi)\n",
    "    z = R * np.cos(theta)\n",
    "\n",
    "    # create 3d Axes\n",
    "    fig = plt.figure()\n",
    "    ax = fig.add_subplot(111, aspect='auto', projection='3d')\n",
    "    ax.plot_surface(x.T, y.T, z.T, facecolors=img/255, cstride=1, rstride=1) # we've already pruned ourselves\n",
    "\n",
    "    # make the plot more spherical\n",
    "    ax.set_aspect('equal')\n",
    "    plt.show()"
   ]
  },
  {
   "cell_type": "code",
   "execution_count": 3,
   "metadata": {},
   "outputs": [
    {
     "name": "stdout",
     "output_type": "stream",
     "text": [
      "Notebook initialized with ipy backend.\n"
     ]
    }
   ],
   "source": [
    "from mayavi import mlab\n",
    "mlab.init_notebook()\n",
    "from tvtk.api import tvtk\n",
    "\n",
    "def auto_sphere(image_file):\n",
    "    # create a figure window (and scene)\n",
    "    fig = mlab.figure(size=(600, 600))\n",
    "\n",
    "    # load and map the texture\n",
    "    img = tvtk.JPEGReader()\n",
    "    img.file_name = image_file\n",
    "    texture = tvtk.Texture(input_connection=img.output_port, interpolate=1)\n",
    "    # (interpolate for a less raster appearance when zoomed in)\n",
    "\n",
    "    # use a TexturedSphereSource, a.k.a. getting our hands dirty\n",
    "    R = 1\n",
    "    Nrad = 180\n",
    "\n",
    "    # create the sphere source with a given radius and angular resolution\n",
    "    sphere = tvtk.TexturedSphereSource(radius=R, theta_resolution=Nrad,\n",
    "                                       phi_resolution=Nrad)\n",
    "\n",
    "    # assemble rest of the pipeline, assign texture    \n",
    "    sphere_mapper = tvtk.PolyDataMapper(input_connection=sphere.output_port)\n",
    "    sphere_actor = tvtk.Actor(mapper=sphere_mapper, texture=texture)\n",
    "    fig.scene.add_actor(sphere_actor)\n",
    "\n",
    "\n",
    "image_file = 'earth.jpg'\n",
    "auto_sphere(image_file)\n",
    "mlab.show()"
   ]
  },
  {
   "cell_type": "code",
   "execution_count": null,
   "metadata": {},
   "outputs": [],
   "source": []
  },
  {
   "cell_type": "code",
   "execution_count": 19,
   "metadata": {},
   "outputs": [
    {
     "data": {
      "application/vnd.jupyter.widget-view+json": {
       "model_id": "4cf0a26598be48b38699954ed3a3afe9",
       "version_major": 2,
       "version_minor": 0
      },
      "text/plain": [
       "Canvas(toolbar=Toolbar(toolitems=[('Home', 'Reset original view', 'home', 'home'), ('Back', 'Back to previous …"
      ]
     },
     "metadata": {},
     "output_type": "display_data"
    }
   ],
   "source": [
    "import numpy as np\n",
    "import matplotlib.pyplot as plt\n",
    "from matplotlib.animation import FuncAnimation\n",
    "\n",
    "fig, ax = plt.subplots()\n",
    "xdata, ydata = [], []\n",
    "ln, = plt.plot([], [])\n",
    "\n",
    "def init():\n",
    "    ax.set_xlim(0, 1)\n",
    "    ax.set_ylim(0, 1)\n",
    "    return ln,\n",
    "\n",
    "state = np.array([physics.Consts.ISS_altitude + physics.Consts.R_earth, 0, 0, 0, vcircular(physics.Consts.ISS_altitude), 0])\n",
    "simulator = Simulator(100000, cubesat, planet, state, 10)\n",
    "\n",
    "def update(frame, simulator, _):\n",
    "    state = simulator.step()\n",
    "    xdata.append(state[1][0])\n",
    "    ydata.append(ydata[-1] + 1 if len(ydata) > 0 else 0)\n",
    "    ln.set_data(ydata, xdata)\n",
    "    ax.set_xlim(0, len(xdata))\n",
    "    ax.set_ylim(min(xdata), max(xdata))\n",
    "    return ln,\n",
    "    \n",
    "ani = FuncAnimation(fig, update, 400, fargs=(simulator, 0), interval=1, blit=True)\n",
    "plt.show()"
   ]
  },
  {
   "cell_type": "code",
   "execution_count": null,
   "metadata": {},
   "outputs": [],
   "source": []
  }
 ],
 "metadata": {
  "kernelspec": {
   "display_name": "cubesat",
   "language": "python",
   "name": "cubesat"
  },
  "language_info": {
   "codemirror_mode": {
    "name": "ipython",
    "version": 3
   },
   "file_extension": ".py",
   "mimetype": "text/x-python",
   "name": "python",
   "nbconvert_exporter": "python",
   "pygments_lexer": "ipython3",
   "version": "3.8.5"
  }
 },
 "nbformat": 4,
 "nbformat_minor": 4
}
