{
 "cells": [
  {
   "cell_type": "code",
   "execution_count": 1,
   "metadata": {},
   "outputs": [],
   "source": [
    "%matplotlib widget\n",
    "import matplotlib.pyplot as plt\n",
    "import matplotlib.animation as animation\n",
    "from mpl_toolkits.mplot3d.art3d import Poly3DCollection, Line3DCollection\n",
    "import numpy as np"
   ]
  },
  {
   "cell_type": "code",
   "execution_count": 7,
   "metadata": {},
   "outputs": [
    {
     "data": {
      "application/vnd.jupyter.widget-view+json": {
       "model_id": "c2097ff3dad5476697eeb8c322d1b620",
       "version_major": 2,
       "version_minor": 0
      },
      "text/plain": [
       "Canvas(toolbar=Toolbar(toolitems=[('Home', 'Reset original view', 'home', 'home'), ('Back', 'Back to previous …"
      ]
     },
     "metadata": {},
     "output_type": "display_data"
    }
   ],
   "source": [
    "points = np.array([[-1, -1, -1],\n",
    "                  [1, -1, -1 ],\n",
    "                  [1, 1, -1],\n",
    "                  [-1, 1, -1],\n",
    "                  [-1, -1, 1],\n",
    "                  [1, -1, 1 ],\n",
    "                  [1, 1, 1],\n",
    "                  [-1, 1, 1]])\n",
    "\n",
    "def points_to_verts(Z):\n",
    "    return [[Z[0],Z[1],Z[2],Z[3]],\n",
    "            [Z[4],Z[5],Z[6],Z[7]], \n",
    "            [Z[0],Z[1],Z[5],Z[4]], \n",
    "            [Z[2],Z[3],Z[7],Z[6]], \n",
    "            [Z[1],Z[2],Z[6],Z[5]],\n",
    "            [Z[4],Z[7],Z[3],Z[0]]]\n",
    "\n",
    "def build_rot_mat(theta):\n",
    "    return np.array([[np.sin(theta), np.cos(theta), 0],\n",
    "                  [np.cos(theta), -np.sin(theta), 0],\n",
    "                  [0, 0, 1]])\n",
    "\n",
    "def rotate_points(points, theta):\n",
    "    return np.array([np.dot(build_rot_mat(theta), point) for point in points])\n",
    "\n",
    "# Attaching 3D axis to the figure\n",
    "fig = plt.figure(figsize=(15,5))\n",
    "ax  = fig.add_subplot(121, projection='3d')\n",
    "ax2 = fig.add_subplot(122)\n",
    "\n",
    "# 3d simulation\n",
    "collection = Poly3DCollection(points_to_verts(points), facecolors='grey', linewidths=1, edgecolors='black', alpha=1.0)\n",
    "ax.add_collection3d(collection)\n",
    "\n",
    "# 2d plot\n",
    "line = [0, 1]\n",
    "plotter, = ax2.plot([], [])\n",
    "\n",
    "def update(num, ax, points, line):\n",
    "    points = rotate_points(points, 0.01*num)\n",
    "    ax.collections[0].set_verts(points_to_verts(points))\n",
    "    line.append([0.01*num]) \n",
    "    plotter.set_data(np.arange(0, len(line), 1), line)\n",
    "    return ax, points, line\n",
    "\n",
    "# Setting the axes properties\n",
    "ax.set_xlim3d([-2.0, 2.0])\n",
    "ax.set_xlabel('X')\n",
    "ax.set_ylim3d([-2.0, 2.0])\n",
    "ax.set_ylabel('Y')\n",
    "ax.set_zlim3d([-2.0, 2.0])\n",
    "ax.set_zlabel('Z')\n",
    "ax.set_title('3D Simulation')\n",
    "\n",
    "# Creating the Animation object\n",
    "line_ani = animation.FuncAnimation(fig, update, 200, fargs=(ax, points, line),\n",
    "                                   interval=10, blit=False)\n",
    "\n",
    "plt.show()"
   ]
  },
  {
   "cell_type": "code",
   "execution_count": null,
   "metadata": {},
   "outputs": [],
   "source": []
  }
 ],
 "metadata": {
  "kernelspec": {
   "display_name": "cubesat",
   "language": "python",
   "name": "cubesat"
  },
  "language_info": {
   "codemirror_mode": {
    "name": "ipython",
    "version": 3
   },
   "file_extension": ".py",
   "mimetype": "text/x-python",
   "name": "python",
   "nbconvert_exporter": "python",
   "pygments_lexer": "ipython3",
   "version": "3.8.5"
  }
 },
 "nbformat": 4,
 "nbformat_minor": 4
}
